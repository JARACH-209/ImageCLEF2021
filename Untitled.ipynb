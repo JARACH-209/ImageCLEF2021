{
 "cells": [
  {
   "cell_type": "code",
   "execution_count": 1,
   "metadata": {},
   "outputs": [],
   "source": [
    "import torch"
   ]
  },
  {
   "cell_type": "code",
   "execution_count": 2,
   "metadata": {},
   "outputs": [
    {
     "name": "stdout",
     "output_type": "stream",
     "text": [
      "1.2.0\n"
     ]
    }
   ],
   "source": [
    "print(torch.__version__)"
   ]
  },
  {
   "cell_type": "code",
   "execution_count": 3,
   "metadata": {},
   "outputs": [
    {
     "name": "stdout",
     "output_type": "stream",
     "text": [
      "1.19.2\n"
     ]
    }
   ],
   "source": [
    "import numpy as np\n",
    "print(np.__version__)"
   ]
  },
  {
   "cell_type": "code",
   "execution_count": 4,
   "metadata": {},
   "outputs": [],
   "source": [
    "from collections import defaultdict\n",
    "import time\n",
    "import os\n",
    "\n",
    "import numpy as np\n",
    "\n",
    "from tqdm import tqdm\n",
    "\n",
    "from medicaltorch import datasets as mt_datasets\n",
    "from medicaltorch import models as mt_models\n",
    "from medicaltorch import transforms as mt_transforms\n",
    "from medicaltorch import losses as mt_losses\n",
    "from medicaltorch import metrics as mt_metrics\n",
    "from medicaltorch import filters as mt_filters\n",
    "\n",
    "import torch\n",
    "from torchvision import transforms\n",
    "from torch.utils.data import DataLoader\n",
    "from torch import autograd, optim\n",
    "import torch.backends.cudnn as cudnn\n",
    "import torch.nn as nn\n",
    "\n",
    "import torchvision.utils as vutils\n",
    "\n",
    "cudnn.benchmark = True\n",
    "import matplotlib.pyplot as plt\n",
    "%matplotlib inline"
   ]
  },
  {
   "cell_type": "code",
   "execution_count": 5,
   "metadata": {},
   "outputs": [],
   "source": [
    "home = os.path.expanduser('~')\n",
    "Dataset = os.path.join('Datasets', 'ImageCLEF', 'Dataset')\n",
    "\n",
    "ROOT_DIR = os.path.join(home, Dataset)"
   ]
  },
  {
   "cell_type": "code",
   "execution_count": null,
   "metadata": {},
   "outputs": [],
   "source": [
    "mri_input_filename = os.path.join(ROOT_DIR_GMCHALLENGE,\n",
    "                                          'TRN_0435.nii.gz')\n",
    "mri_gt_filename = os.path.join(ROOT_DIR_GMCHALLENGE,\n",
    "                                       'site1-sc01-mask-r1.nii.gz')\n",
    "\n",
    "pair = mt_datasets.SegmentationPair2D(mri_input_filename, mri_gt_filename)\n",
    "slice_pair = pair.get_pair_slice(0)\n",
    "input_slice = slice_pair[\"input\"]\n",
    "gt_slice = slice_pair[\"gt\"]"
   ]
  },
  {
   "cell_type": "code",
   "execution_count": 6,
   "metadata": {},
   "outputs": [],
   "source": [
    "# transformer\n",
    "composed_transform = transforms.Compose([\n",
    "            mt_transforms.Resample(0.25, 0.25),\n",
    "            mt_transforms.CenterCrop2D((200, 200)),\n",
    "            mt_transforms.ToTensor(),\n",
    "])"
   ]
  },
  {
   "cell_type": "code",
   "execution_count": null,
   "metadata": {},
   "outputs": [],
   "source": [
    "train_dataset = mt_datasets.SCGMChallenge2DTrain(root_dir=ROOT_DIR_GMCHALLENGE, transform=composed_transform)"
   ]
  }
 ],
 "metadata": {
  "kernelspec": {
   "display_name": "Python 3",
   "language": "python",
   "name": "python3"
  },
  "language_info": {
   "codemirror_mode": {
    "name": "ipython",
    "version": 3
   },
   "file_extension": ".py",
   "mimetype": "text/x-python",
   "name": "python",
   "nbconvert_exporter": "python",
   "pygments_lexer": "ipython3",
   "version": "3.7.10"
  }
 },
 "nbformat": 4,
 "nbformat_minor": 4
}
