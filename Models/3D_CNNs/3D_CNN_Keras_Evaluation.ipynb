{
 "cells": [
  {
   "cell_type": "code",
   "execution_count": 1,
   "metadata": {},
   "outputs": [],
   "source": [
    "import os\n",
    "import pickle\n",
    "import numpy as np\n",
    "import pandas as pd\n",
    "import nibabel as nib\n",
    "import tensorflow as tf\n",
    "\n",
    "from scipy import ndimage\n",
    "from tensorflow import keras\n",
    "from tensorflow.keras import layers\n",
    "from sklearn.metrics import accuracy_score\n",
    "from sklearn.metrics import cohen_kappa_score\n",
    "from sklearn.model_selection import train_test_split"
   ]
  },
  {
   "cell_type": "code",
   "execution_count": 2,
   "metadata": {},
   "outputs": [],
   "source": [
    "gpu_devices = tf.config.experimental.list_physical_devices('GPU')\n",
    "tf.config.experimental.set_memory_growth(gpu_devices[0], True)\n",
    "\n",
    "# tf.config.gpu.set_per_process_memory_growth(True)"
   ]
  },
  {
   "cell_type": "code",
   "execution_count": 3,
   "metadata": {},
   "outputs": [],
   "source": [
    "model_name = '3d_image_classification_normalized'\n",
    "# 3d_image_classification_normalized_history.\n",
    "random_state=1"
   ]
  },
  {
   "cell_type": "markdown",
   "metadata": {},
   "source": [
    "## Directory structure:\n",
    "* **Dataset Directory**: $HOME/Datasets/ImageCLEF/\n",
    "* extracted .nii.gz files are in a Dataset subfolder in Dataset Directory\n",
    "* metadata file is in the Dataset Directory"
   ]
  },
  {
   "cell_type": "code",
   "execution_count": 4,
   "metadata": {},
   "outputs": [
    {
     "data": {
      "text/html": [
       "<div>\n",
       "<style scoped>\n",
       "    .dataframe tbody tr th:only-of-type {\n",
       "        vertical-align: middle;\n",
       "    }\n",
       "\n",
       "    .dataframe tbody tr th {\n",
       "        vertical-align: top;\n",
       "    }\n",
       "\n",
       "    .dataframe thead th {\n",
       "        text-align: right;\n",
       "    }\n",
       "</style>\n",
       "<table border=\"1\" class=\"dataframe\">\n",
       "  <thead>\n",
       "    <tr style=\"text-align: right;\">\n",
       "      <th></th>\n",
       "      <th>FileName</th>\n",
       "      <th>TypeOfTB</th>\n",
       "    </tr>\n",
       "  </thead>\n",
       "  <tbody>\n",
       "    <tr>\n",
       "      <th>0</th>\n",
       "      <td>TRN_0001.nii.gz</td>\n",
       "      <td>1</td>\n",
       "    </tr>\n",
       "    <tr>\n",
       "      <th>1</th>\n",
       "      <td>TRN_0002.nii.gz</td>\n",
       "      <td>1</td>\n",
       "    </tr>\n",
       "    <tr>\n",
       "      <th>2</th>\n",
       "      <td>TRN_0003.nii.gz</td>\n",
       "      <td>1</td>\n",
       "    </tr>\n",
       "    <tr>\n",
       "      <th>3</th>\n",
       "      <td>TRN_0004.nii.gz</td>\n",
       "      <td>1</td>\n",
       "    </tr>\n",
       "    <tr>\n",
       "      <th>4</th>\n",
       "      <td>TRN_0005.nii.gz</td>\n",
       "      <td>1</td>\n",
       "    </tr>\n",
       "    <tr>\n",
       "      <th>5</th>\n",
       "      <td>TRN_0006.nii.gz</td>\n",
       "      <td>1</td>\n",
       "    </tr>\n",
       "    <tr>\n",
       "      <th>6</th>\n",
       "      <td>TRN_0007.nii.gz</td>\n",
       "      <td>4</td>\n",
       "    </tr>\n",
       "    <tr>\n",
       "      <th>7</th>\n",
       "      <td>TRN_0008.nii.gz</td>\n",
       "      <td>1</td>\n",
       "    </tr>\n",
       "    <tr>\n",
       "      <th>8</th>\n",
       "      <td>TRN_0009.nii.gz</td>\n",
       "      <td>1</td>\n",
       "    </tr>\n",
       "    <tr>\n",
       "      <th>9</th>\n",
       "      <td>TRN_0010.nii.gz</td>\n",
       "      <td>1</td>\n",
       "    </tr>\n",
       "  </tbody>\n",
       "</table>\n",
       "</div>"
      ],
      "text/plain": [
       "          FileName  TypeOfTB\n",
       "0  TRN_0001.nii.gz         1\n",
       "1  TRN_0002.nii.gz         1\n",
       "2  TRN_0003.nii.gz         1\n",
       "3  TRN_0004.nii.gz         1\n",
       "4  TRN_0005.nii.gz         1\n",
       "5  TRN_0006.nii.gz         1\n",
       "6  TRN_0007.nii.gz         4\n",
       "7  TRN_0008.nii.gz         1\n",
       "8  TRN_0009.nii.gz         1\n",
       "9  TRN_0010.nii.gz         1"
      ]
     },
     "execution_count": 4,
     "metadata": {},
     "output_type": "execute_result"
    }
   ],
   "source": [
    "home = os.path.expanduser('~')\n",
    "base = os.path.join(home, 'Datasets', 'ImageCLEF')\n",
    "\n",
    "dataset_dir = os.path.join(base, 'Dataset')\n",
    "\n",
    "label_path = os.path.join(base, '4231cdb3-af46-4674-be08-95b904a62093_TrainSet_metaData.csv')\n",
    "df = pd.read_csv(label_path)\n",
    "\n",
    "df.head(10)"
   ]
  },
  {
   "cell_type": "code",
   "execution_count": 5,
   "metadata": {},
   "outputs": [],
   "source": [
    "filenames = df['FileName'].tolist()\n",
    "num_samples = len(filenames)\n",
    "\n",
    "labels = df['TypeOfTB'].to_numpy() - 1\n",
    "stratify = df['TypeOfTB'].to_numpy() - 1\n",
    "num_classes = labels.max() + 1\n",
    "\n",
    "labels = tf.one_hot(labels, depth=num_classes)\n",
    "\n",
    "idxs = [i for i in range(num_samples)]\n",
    "\n",
    "train_idxs, val_idxs = train_test_split(idxs, test_size=0.2, random_state=random_state, stratify=df['TypeOfTB'].to_numpy() - 1)\n",
    "\n",
    "del num_classes, idxs, stratify"
   ]
  },
  {
   "cell_type": "code",
   "execution_count": 8,
   "metadata": {},
   "outputs": [],
   "source": [
    "img_depth = 84\n",
    "\n",
    "def read_nifti_file(filepath):\n",
    "    \"\"\"Read and load volume\"\"\"\n",
    "    # Read file\n",
    "    scan = nib.load(filepath)\n",
    "    # Get raw data\n",
    "    scan = scan.get_fdata()\n",
    "    return scan\n",
    "\n",
    "def normalize(volume):\n",
    "    \"\"\"Normalize the volume\"\"\"\n",
    "    min = -1000\n",
    "    max = 400\n",
    "    volume[volume < min] = min\n",
    "    volume[volume > max] = max\n",
    "    volume = (volume - min) / (max - min)\n",
    "    volume = volume.astype(\"float32\")\n",
    "    return volume\n",
    "\n",
    "def resize_volume(img):\n",
    "    \"\"\"Resize across z-axis\"\"\"\n",
    "    # Set the desired depth\n",
    "    \n",
    "#     print(f\"Shape: {img.shape}\")\n",
    "    desired_depth = img_depth\n",
    "    desired_width = 512\n",
    "    desired_height = 512\n",
    "    # Get current depth\n",
    "    current_depth = img.shape[-1]\n",
    "    current_width = img.shape[0]\n",
    "    current_height = img.shape[1]\n",
    "    # Compute depth factor\n",
    "    depth = current_depth / desired_depth\n",
    "    width = current_width / desired_width\n",
    "    height = current_height / desired_height\n",
    "    depth_factor = 1 / depth\n",
    "    width_factor = 1 / width\n",
    "    height_factor = 1 / height\n",
    "    # Rotate\n",
    "    \n",
    "#     img = ndimage.rotate(img, 90, reshape=False)\n",
    "    # Resize across z-axis\n",
    "    \n",
    "    img = ndimage.zoom(img, (width_factor, height_factor, depth_factor), order=1)\n",
    "    return img\n",
    "\n",
    "\n",
    "def process_scan(path):\n",
    "    \"\"\"Read and resize volume\"\"\"\n",
    "    # Read scan\n",
    "    volume = read_nifti_file(path)\n",
    "    # Normalize\n",
    "    volume = normalize(volume)\n",
    "    # Resize width, height and depth\n",
    "    volume = resize_volume(volume)\n",
    "    print(path)\n",
    "    return volume"
   ]
  },
  {
   "cell_type": "code",
   "execution_count": 9,
   "metadata": {},
   "outputs": [],
   "source": [
    "def train_f():\n",
    "    file_names, file_idxs = filenames, train_idxs\n",
    "    for i, idx in enumerate(file_idxs):\n",
    "        img_path = os.path.join(dataset_dir, file_names[idx])\n",
    "        processed = process_scan(img_path)\n",
    "        \n",
    "        image = tf.convert_to_tensor(processed, dtype=tf.float16)\n",
    "        image = image[..., np.newaxis]\n",
    "        y = labels[idx]\n",
    "        \n",
    "        yield image, y\n",
    "    \n",
    "def val_f():\n",
    "    file_names, file_idxs = filenames, val_idxs\n",
    "    for i, idx in enumerate(file_idxs):\n",
    "        img_path = os.path.join(dataset_dir, file_names[idx])\n",
    "        processed = process_scan(img_path)\n",
    "        \n",
    "        image = tf.convert_to_tensor(processed, dtype=tf.float16)\n",
    "        image = image[..., np.newaxis]\n",
    "        y = labels[idx]\n",
    "        \n",
    "        yield image, y"
   ]
  },
  {
   "cell_type": "code",
   "execution_count": 10,
   "metadata": {},
   "outputs": [],
   "source": [
    "train_batch_size = 1\n",
    "\n",
    "train_dataset = tf.data.Dataset.from_generator(\n",
    "                    train_f,\n",
    "                    (tf.float32, tf.float32),\n",
    "                    (tf.TensorShape([512, 512, img_depth, 1]), tf.TensorShape([5])))\n",
    "\n",
    "train_dataset = train_dataset.repeat(None)\n",
    "train_dataset = train_dataset.batch(train_batch_size)\n",
    "train_dataset = train_dataset.prefetch(2)\n",
    "\n",
    "\n",
    "val_batch_size = 1\n",
    "\n",
    "val_dataset = tf.data.Dataset.from_generator(\n",
    "                    val_f,\n",
    "                    (tf.float32, tf.float32),\n",
    "                    (tf.TensorShape([512, 512, img_depth, 1]), tf.TensorShape([5])))\n",
    "val_dataset = val_dataset.repeat(None)\n",
    "val_dataset = val_dataset.batch(val_batch_size)\n",
    "val_dataset = val_dataset.prefetch(2)\n",
    "\n",
    "train_steps = int(len(train_idxs) / (train_batch_size * 2))\n",
    "val_steps = int(len(val_idxs) / (val_batch_size * 3))\n",
    "# val_steps = 64"
   ]
  },
  {
   "cell_type": "code",
   "execution_count": 11,
   "metadata": {
    "scrolled": true
   },
   "outputs": [
    {
     "name": "stdout",
     "output_type": "stream",
     "text": [
      "Model: \"3d_image_classification_normalized\"\n",
      "_________________________________________________________________\n",
      "Layer (type)                 Output Shape              Param #   \n",
      "=================================================================\n",
      "input_1 (InputLayer)         [(None, 512, 512, 84, 1)] 0         \n",
      "_________________________________________________________________\n",
      "3D_64_1 (Conv3D)             (None, 510, 510, 82, 64)  1792      \n",
      "_________________________________________________________________\n",
      "max_pooling3d (MaxPooling3D) (None, 255, 255, 41, 64)  0         \n",
      "_________________________________________________________________\n",
      "batch_normalization (BatchNo (None, 255, 255, 41, 64)  256       \n",
      "_________________________________________________________________\n",
      "3D_64_2 (Conv3D)             (None, 253, 253, 39, 64)  110656    \n",
      "_________________________________________________________________\n",
      "max_pooling3d_1 (MaxPooling3 (None, 126, 126, 19, 64)  0         \n",
      "_________________________________________________________________\n",
      "batch_normalization_1 (Batch (None, 126, 126, 19, 64)  256       \n",
      "_________________________________________________________________\n",
      "dropout (Dropout)            (None, 126, 126, 19, 64)  0         \n",
      "_________________________________________________________________\n",
      "3D_128_1 (Conv3D)            (None, 124, 124, 17, 128) 221312    \n",
      "_________________________________________________________________\n",
      "max_pooling3d_2 (MaxPooling3 (None, 62, 62, 8, 128)    0         \n",
      "_________________________________________________________________\n",
      "batch_normalization_2 (Batch (None, 62, 62, 8, 128)    512       \n",
      "_________________________________________________________________\n",
      "3D_128_2 (Conv3D)            (None, 60, 60, 6, 128)    442496    \n",
      "_________________________________________________________________\n",
      "max_pooling3d_3 (MaxPooling3 (None, 30, 30, 3, 128)    0         \n",
      "_________________________________________________________________\n",
      "batch_normalization_3 (Batch (None, 30, 30, 3, 128)    512       \n",
      "_________________________________________________________________\n",
      "global_average_pooling3d (Gl (None, 128)               0         \n",
      "_________________________________________________________________\n",
      "flatten (Flatten)            (None, 128)               0         \n",
      "_________________________________________________________________\n",
      "dense (Dense)                (None, 256)               33024     \n",
      "_________________________________________________________________\n",
      "dropout_1 (Dropout)          (None, 256)               0         \n",
      "_________________________________________________________________\n",
      "dense_1 (Dense)              (None, 5)                 1285      \n",
      "=================================================================\n",
      "Total params: 812,101\n",
      "Trainable params: 811,333\n",
      "Non-trainable params: 768\n",
      "_________________________________________________________________\n"
     ]
    }
   ],
   "source": [
    "# Load Model\n",
    "\n",
    "model_path = os.path.join(home, 'ImageCLEF2021', 'Models', '3D_CNNs', f'{model_name}.h5')\n",
    "model = tf.keras.models.load_model(model_path)\n",
    "# model.trainable = False\n",
    "\n",
    "# initial_learning_rate = 0.0001\n",
    "# lr_schedule = keras.optimizers.schedules.ExponentialDecay(\n",
    "#     initial_learning_rate, decay_steps=100000, decay_rate=0.96, staircase=True\n",
    "# )\n",
    "# model.compile(\n",
    "#     loss=\"binary_crossentropy\",\n",
    "#     optimizer=keras.optimizers.Adam(learning_rate=lr_schedule),\n",
    "#     metrics=[\"acc\"],\n",
    "# )\n",
    "\n",
    "model.summary()"
   ]
  },
  {
   "cell_type": "code",
   "execution_count": 13,
   "metadata": {},
   "outputs": [],
   "source": [
    "train_samples = np.load('train_samples.npz')\n",
    "train_targets = np.load('train_targets.npz')\n",
    "\n",
    "val_samples = np.load('val_samples.npz')\n",
    "val_targets = np.load('val_targets.npz')"
   ]
  },
  {
   "cell_type": "code",
   "execution_count": 14,
   "metadata": {},
   "outputs": [],
   "source": [
    "train_samples = train_samples['a']\n",
    "train_targets = train_targets['a']\n",
    "\n",
    "val_samples = val_samples['a']\n",
    "val_targets = val_targets['a']"
   ]
  },
  {
   "cell_type": "code",
   "execution_count": 15,
   "metadata": {},
   "outputs": [
    {
     "name": "stdout",
     "output_type": "stream",
     "text": [
      "732\n",
      "184\r"
     ]
    }
   ],
   "source": [
    "\"\"\"\n",
    "train_preds = model(train_samples)\n",
    "val_preds = model(val_samples)\n",
    "\"\"\"\n",
    "\n",
    "train_preds, i = [], 0\n",
    "for sample in train_samples:\n",
    "    pred = model(sample[np.newaxis, ...])\n",
    "    train_preds.append(pred)\n",
    "    i += 1\n",
    "    print(f'{i}', end='\\r')\n",
    "\n",
    "print(\"\")    \n",
    "    \n",
    "val_preds, i = [], 0\n",
    "for sample in val_samples:\n",
    "    pred = model(sample[np.newaxis, ...])\n",
    "    val_preds.append(pred)\n",
    "    i += 1\n",
    "    print(f'{i}', end='\\r')"
   ]
  },
  {
   "cell_type": "code",
   "execution_count": 18,
   "metadata": {},
   "outputs": [
    {
     "name": "stdout",
     "output_type": "stream",
     "text": [
      "\n",
      "\tTrain Samples: (732, 512, 512, 64, 1)\n",
      "\tTrain Targets: (732, 5)\n",
      "\tTrain Predictions: (732, 5)\n",
      "\tT_Preds: (732,)\n",
      "\tT_Targets: (732,)\n",
      "\n",
      "\n",
      "\tVal Samples: (184, 512, 512, 64, 1)\n",
      "\tVal Targets: (184, 5)\n",
      "\tVal Predictions: (184, 5)\n",
      "\tV_Preds: (184,)\n",
      "\tV_Targets: (184,)\n",
      "\n"
     ]
    }
   ],
   "source": [
    "print(f'''\n",
    "\\tTrain Samples: {train_samples.shape}\n",
    "\\tTrain Targets: {train_targets.shape}\n",
    "\\tTrain Predictions: {train_preds.shape}\n",
    "\\tT_Preds: {t_preds.shape}\n",
    "\\tT_Targets: {t_targets.shape}\n",
    "\\n\n",
    "\\tVal Samples: {val_samples.shape}\n",
    "\\tVal Targets: {val_targets.shape}\n",
    "\\tVal Predictions: {val_preds.shape}\n",
    "\\tV_Preds: {v_preds.shape}\n",
    "\\tV_Targets: {v_targets.shape}\n",
    "''')"
   ]
  },
  {
   "cell_type": "code",
   "execution_count": 19,
   "metadata": {},
   "outputs": [],
   "source": [
    "train_kappa = cohen_kappa_score(t_targets, t_preds)\n",
    "val_kappa = cohen_kappa_score(v_targets, v_preds)\n",
    "\n",
    "train_acc = accuracy_score(t_targets, t_preds)\n",
    "val_acc = accuracy_score(v_targets, v_preds)"
   ]
  },
  {
   "cell_type": "code",
   "execution_count": 22,
   "metadata": {},
   "outputs": [
    {
     "name": "stdout",
     "output_type": "stream",
     "text": [
      "\n",
      "Training Kappa Score: 0.0\tTraining Accuracy: 0.11065573770491803\n",
      "Validation Kappa Score: 0.0\tValidation Accuracy: 0.25\n",
      "\n"
     ]
    }
   ],
   "source": [
    "print(f'''\n",
    "Training Kappa Score: {train_kappa}\\tTraining Accuracy: {train_acc}\n",
    "Validation Kappa Score: {val_kappa}\\tValidation Accuracy: {val_acc}\n",
    "''')"
   ]
  },
  {
   "cell_type": "code",
   "execution_count": 19,
   "metadata": {},
   "outputs": [
    {
     "name": "stdout",
     "output_type": "stream",
     "text": [
      "184/184 [==============================] - 932s 5s/step - loss: 0.6995 - acc: 0.8000\n"
     ]
    },
    {
     "data": {
      "text/plain": [
       "[0.6995394825935364, 0.8000015]"
      ]
     },
     "execution_count": 19,
     "metadata": {},
     "output_type": "execute_result"
    }
   ],
   "source": [
    "model.evaluate(val_dataset, steps=len(val_idxs))"
   ]
  },
  {
   "cell_type": "code",
   "execution_count": 20,
   "metadata": {},
   "outputs": [],
   "source": [
    "valid_preds = np.argmax(validation_preds, axis=1)"
   ]
  },
  {
   "cell_type": "code",
   "execution_count": 12,
   "metadata": {},
   "outputs": [
    {
     "name": "stdout",
     "output_type": "stream",
     "text": [
      "/home/ayushman.singh/Datasets/ImageCLEF/Dataset/TRN_0162.nii.gz\n",
      "/home/ayushman.singh/Datasets/ImageCLEF/Dataset/TRN_0852.nii.gz\n"
     ]
    },
    {
     "ename": "ResourceExhaustedError",
     "evalue": " OOM when allocating tensor with shape[1,510,510,82,64] and type float on /job:localhost/replica:0/task:0/device:GPU:0 by allocator GPU_0_bfc\n\t [[node 3d_image_classification_normalized/3D_64_1/Conv3D (defined at /home/ayushman.singh/anaconda3/envs/tflow/lib/python3.7/site-packages/tensorflow_core/python/framework/ops.py:1751) ]]\nHint: If you want to see a list of allocated tensors when OOM happens, add report_tensor_allocations_upon_oom to RunOptions for current allocation info.\n [Op:__inference_distributed_function_3762]\n\nFunction call stack:\ndistributed_function\n",
     "output_type": "error",
     "traceback": [
      "\u001b[0;31m---------------------------------------------------------------------------\u001b[0m",
      "\u001b[0;31mResourceExhaustedError\u001b[0m                    Traceback (most recent call last)",
      "\u001b[0;32m<ipython-input-12-d6c11a4cfe53>\u001b[0m in \u001b[0;36m<module>\u001b[0;34m\u001b[0m\n\u001b[0;32m----> 1\u001b[0;31m \u001b[0mvalidation_preds\u001b[0m \u001b[0;34m=\u001b[0m \u001b[0mmodel\u001b[0m\u001b[0;34m.\u001b[0m\u001b[0mpredict\u001b[0m\u001b[0;34m(\u001b[0m\u001b[0mval_dataset\u001b[0m\u001b[0;34m,\u001b[0m \u001b[0msteps\u001b[0m\u001b[0;34m=\u001b[0m\u001b[0mlen\u001b[0m\u001b[0;34m(\u001b[0m\u001b[0mval_idxs\u001b[0m\u001b[0;34m)\u001b[0m\u001b[0;34m)\u001b[0m\u001b[0;34m\u001b[0m\u001b[0;34m\u001b[0m\u001b[0m\n\u001b[0m",
      "\u001b[0;32m~/anaconda3/envs/tflow/lib/python3.7/site-packages/tensorflow_core/python/keras/engine/training.py\u001b[0m in \u001b[0;36mpredict\u001b[0;34m(self, x, batch_size, verbose, steps, callbacks, max_queue_size, workers, use_multiprocessing)\u001b[0m\n\u001b[1;32m    907\u001b[0m         \u001b[0mmax_queue_size\u001b[0m\u001b[0;34m=\u001b[0m\u001b[0mmax_queue_size\u001b[0m\u001b[0;34m,\u001b[0m\u001b[0;34m\u001b[0m\u001b[0;34m\u001b[0m\u001b[0m\n\u001b[1;32m    908\u001b[0m         \u001b[0mworkers\u001b[0m\u001b[0;34m=\u001b[0m\u001b[0mworkers\u001b[0m\u001b[0;34m,\u001b[0m\u001b[0;34m\u001b[0m\u001b[0;34m\u001b[0m\u001b[0m\n\u001b[0;32m--> 909\u001b[0;31m         use_multiprocessing=use_multiprocessing)\n\u001b[0m\u001b[1;32m    910\u001b[0m \u001b[0;34m\u001b[0m\u001b[0m\n\u001b[1;32m    911\u001b[0m   \u001b[0;32mdef\u001b[0m \u001b[0mreset_metrics\u001b[0m\u001b[0;34m(\u001b[0m\u001b[0mself\u001b[0m\u001b[0;34m)\u001b[0m\u001b[0;34m:\u001b[0m\u001b[0;34m\u001b[0m\u001b[0;34m\u001b[0m\u001b[0m\n",
      "\u001b[0;32m~/anaconda3/envs/tflow/lib/python3.7/site-packages/tensorflow_core/python/keras/engine/training_v2.py\u001b[0m in \u001b[0;36mpredict\u001b[0;34m(self, model, x, batch_size, verbose, steps, callbacks, **kwargs)\u001b[0m\n\u001b[1;32m    460\u001b[0m     return self._model_iteration(\n\u001b[1;32m    461\u001b[0m         \u001b[0mmodel\u001b[0m\u001b[0;34m,\u001b[0m \u001b[0mModeKeys\u001b[0m\u001b[0;34m.\u001b[0m\u001b[0mPREDICT\u001b[0m\u001b[0;34m,\u001b[0m \u001b[0mx\u001b[0m\u001b[0;34m=\u001b[0m\u001b[0mx\u001b[0m\u001b[0;34m,\u001b[0m \u001b[0mbatch_size\u001b[0m\u001b[0;34m=\u001b[0m\u001b[0mbatch_size\u001b[0m\u001b[0;34m,\u001b[0m \u001b[0mverbose\u001b[0m\u001b[0;34m=\u001b[0m\u001b[0mverbose\u001b[0m\u001b[0;34m,\u001b[0m\u001b[0;34m\u001b[0m\u001b[0;34m\u001b[0m\u001b[0m\n\u001b[0;32m--> 462\u001b[0;31m         steps=steps, callbacks=callbacks, **kwargs)\n\u001b[0m\u001b[1;32m    463\u001b[0m \u001b[0;34m\u001b[0m\u001b[0m\n\u001b[1;32m    464\u001b[0m \u001b[0;34m\u001b[0m\u001b[0m\n",
      "\u001b[0;32m~/anaconda3/envs/tflow/lib/python3.7/site-packages/tensorflow_core/python/keras/engine/training_v2.py\u001b[0m in \u001b[0;36m_model_iteration\u001b[0;34m(self, model, mode, x, y, batch_size, verbose, sample_weight, steps, callbacks, **kwargs)\u001b[0m\n\u001b[1;32m    442\u001b[0m               \u001b[0mmode\u001b[0m\u001b[0;34m=\u001b[0m\u001b[0mmode\u001b[0m\u001b[0;34m,\u001b[0m\u001b[0;34m\u001b[0m\u001b[0;34m\u001b[0m\u001b[0m\n\u001b[1;32m    443\u001b[0m               \u001b[0mtraining_context\u001b[0m\u001b[0;34m=\u001b[0m\u001b[0mtraining_context\u001b[0m\u001b[0;34m,\u001b[0m\u001b[0;34m\u001b[0m\u001b[0;34m\u001b[0m\u001b[0m\n\u001b[0;32m--> 444\u001b[0;31m               total_epochs=1)\n\u001b[0m\u001b[1;32m    445\u001b[0m           \u001b[0mcbks\u001b[0m\u001b[0;34m.\u001b[0m\u001b[0mmake_logs\u001b[0m\u001b[0;34m(\u001b[0m\u001b[0mmodel\u001b[0m\u001b[0;34m,\u001b[0m \u001b[0mepoch_logs\u001b[0m\u001b[0;34m,\u001b[0m \u001b[0mresult\u001b[0m\u001b[0;34m,\u001b[0m \u001b[0mmode\u001b[0m\u001b[0;34m)\u001b[0m\u001b[0;34m\u001b[0m\u001b[0;34m\u001b[0m\u001b[0m\n\u001b[1;32m    446\u001b[0m \u001b[0;34m\u001b[0m\u001b[0m\n",
      "\u001b[0;32m~/anaconda3/envs/tflow/lib/python3.7/site-packages/tensorflow_core/python/keras/engine/training_v2.py\u001b[0m in \u001b[0;36mrun_one_epoch\u001b[0;34m(model, iterator, execution_function, dataset_size, batch_size, strategy, steps_per_epoch, num_samples, mode, training_context, total_epochs)\u001b[0m\n\u001b[1;32m    121\u001b[0m         step=step, mode=mode, size=current_batch_size) as batch_logs:\n\u001b[1;32m    122\u001b[0m       \u001b[0;32mtry\u001b[0m\u001b[0;34m:\u001b[0m\u001b[0;34m\u001b[0m\u001b[0;34m\u001b[0m\u001b[0m\n\u001b[0;32m--> 123\u001b[0;31m         \u001b[0mbatch_outs\u001b[0m \u001b[0;34m=\u001b[0m \u001b[0mexecution_function\u001b[0m\u001b[0;34m(\u001b[0m\u001b[0miterator\u001b[0m\u001b[0;34m)\u001b[0m\u001b[0;34m\u001b[0m\u001b[0;34m\u001b[0m\u001b[0m\n\u001b[0m\u001b[1;32m    124\u001b[0m       \u001b[0;32mexcept\u001b[0m \u001b[0;34m(\u001b[0m\u001b[0mStopIteration\u001b[0m\u001b[0;34m,\u001b[0m \u001b[0merrors\u001b[0m\u001b[0;34m.\u001b[0m\u001b[0mOutOfRangeError\u001b[0m\u001b[0;34m)\u001b[0m\u001b[0;34m:\u001b[0m\u001b[0;34m\u001b[0m\u001b[0;34m\u001b[0m\u001b[0m\n\u001b[1;32m    125\u001b[0m         \u001b[0;31m# TODO(kaftan): File bug about tf function and errors.OutOfRangeError?\u001b[0m\u001b[0;34m\u001b[0m\u001b[0;34m\u001b[0m\u001b[0;34m\u001b[0m\u001b[0m\n",
      "\u001b[0;32m~/anaconda3/envs/tflow/lib/python3.7/site-packages/tensorflow_core/python/keras/engine/training_v2_utils.py\u001b[0m in \u001b[0;36mexecution_function\u001b[0;34m(input_fn)\u001b[0m\n\u001b[1;32m     84\u001b[0m     \u001b[0;31m# `numpy` translates Tensors to values in Eager mode.\u001b[0m\u001b[0;34m\u001b[0m\u001b[0;34m\u001b[0m\u001b[0;34m\u001b[0m\u001b[0m\n\u001b[1;32m     85\u001b[0m     return nest.map_structure(_non_none_constant_value,\n\u001b[0;32m---> 86\u001b[0;31m                               distributed_function(input_fn))\n\u001b[0m\u001b[1;32m     87\u001b[0m \u001b[0;34m\u001b[0m\u001b[0m\n\u001b[1;32m     88\u001b[0m   \u001b[0;32mreturn\u001b[0m \u001b[0mexecution_function\u001b[0m\u001b[0;34m\u001b[0m\u001b[0;34m\u001b[0m\u001b[0m\n",
      "\u001b[0;32m~/anaconda3/envs/tflow/lib/python3.7/site-packages/tensorflow_core/python/eager/def_function.py\u001b[0m in \u001b[0;36m__call__\u001b[0;34m(self, *args, **kwds)\u001b[0m\n\u001b[1;32m    455\u001b[0m \u001b[0;34m\u001b[0m\u001b[0m\n\u001b[1;32m    456\u001b[0m     \u001b[0mtracing_count\u001b[0m \u001b[0;34m=\u001b[0m \u001b[0mself\u001b[0m\u001b[0;34m.\u001b[0m\u001b[0m_get_tracing_count\u001b[0m\u001b[0;34m(\u001b[0m\u001b[0;34m)\u001b[0m\u001b[0;34m\u001b[0m\u001b[0;34m\u001b[0m\u001b[0m\n\u001b[0;32m--> 457\u001b[0;31m     \u001b[0mresult\u001b[0m \u001b[0;34m=\u001b[0m \u001b[0mself\u001b[0m\u001b[0;34m.\u001b[0m\u001b[0m_call\u001b[0m\u001b[0;34m(\u001b[0m\u001b[0;34m*\u001b[0m\u001b[0margs\u001b[0m\u001b[0;34m,\u001b[0m \u001b[0;34m**\u001b[0m\u001b[0mkwds\u001b[0m\u001b[0;34m)\u001b[0m\u001b[0;34m\u001b[0m\u001b[0;34m\u001b[0m\u001b[0m\n\u001b[0m\u001b[1;32m    458\u001b[0m     \u001b[0;32mif\u001b[0m \u001b[0mtracing_count\u001b[0m \u001b[0;34m==\u001b[0m \u001b[0mself\u001b[0m\u001b[0;34m.\u001b[0m\u001b[0m_get_tracing_count\u001b[0m\u001b[0;34m(\u001b[0m\u001b[0;34m)\u001b[0m\u001b[0;34m:\u001b[0m\u001b[0;34m\u001b[0m\u001b[0;34m\u001b[0m\u001b[0m\n\u001b[1;32m    459\u001b[0m       \u001b[0mself\u001b[0m\u001b[0;34m.\u001b[0m\u001b[0m_call_counter\u001b[0m\u001b[0;34m.\u001b[0m\u001b[0mcalled_without_tracing\u001b[0m\u001b[0;34m(\u001b[0m\u001b[0;34m)\u001b[0m\u001b[0;34m\u001b[0m\u001b[0;34m\u001b[0m\u001b[0m\n",
      "\u001b[0;32m~/anaconda3/envs/tflow/lib/python3.7/site-packages/tensorflow_core/python/eager/def_function.py\u001b[0m in \u001b[0;36m_call\u001b[0;34m(self, *args, **kwds)\u001b[0m\n\u001b[1;32m    524\u001b[0m               *args, **kwds)\n\u001b[1;32m    525\u001b[0m       \u001b[0;31m# If we did not create any variables the trace we have is good enough.\u001b[0m\u001b[0;34m\u001b[0m\u001b[0;34m\u001b[0m\u001b[0;34m\u001b[0m\u001b[0m\n\u001b[0;32m--> 526\u001b[0;31m       \u001b[0;32mreturn\u001b[0m \u001b[0mself\u001b[0m\u001b[0;34m.\u001b[0m\u001b[0m_concrete_stateful_fn\u001b[0m\u001b[0;34m.\u001b[0m\u001b[0m_filtered_call\u001b[0m\u001b[0;34m(\u001b[0m\u001b[0mcanon_args\u001b[0m\u001b[0;34m,\u001b[0m \u001b[0mcanon_kwds\u001b[0m\u001b[0;34m)\u001b[0m  \u001b[0;31m# pylint: disable=protected-access\u001b[0m\u001b[0;34m\u001b[0m\u001b[0;34m\u001b[0m\u001b[0m\n\u001b[0m\u001b[1;32m    527\u001b[0m \u001b[0;34m\u001b[0m\u001b[0m\n\u001b[1;32m    528\u001b[0m     \u001b[0;32mdef\u001b[0m \u001b[0mfn_with_cond\u001b[0m\u001b[0;34m(\u001b[0m\u001b[0;34m*\u001b[0m\u001b[0minner_args\u001b[0m\u001b[0;34m,\u001b[0m \u001b[0;34m**\u001b[0m\u001b[0minner_kwds\u001b[0m\u001b[0;34m)\u001b[0m\u001b[0;34m:\u001b[0m\u001b[0;34m\u001b[0m\u001b[0;34m\u001b[0m\u001b[0m\n",
      "\u001b[0;32m~/anaconda3/envs/tflow/lib/python3.7/site-packages/tensorflow_core/python/eager/function.py\u001b[0m in \u001b[0;36m_filtered_call\u001b[0;34m(self, args, kwargs)\u001b[0m\n\u001b[1;32m   1139\u001b[0m          if isinstance(t, (ops.Tensor,\n\u001b[1;32m   1140\u001b[0m                            resource_variable_ops.BaseResourceVariable))),\n\u001b[0;32m-> 1141\u001b[0;31m         self.captured_inputs)\n\u001b[0m\u001b[1;32m   1142\u001b[0m \u001b[0;34m\u001b[0m\u001b[0m\n\u001b[1;32m   1143\u001b[0m   \u001b[0;32mdef\u001b[0m \u001b[0m_call_flat\u001b[0m\u001b[0;34m(\u001b[0m\u001b[0mself\u001b[0m\u001b[0;34m,\u001b[0m \u001b[0margs\u001b[0m\u001b[0;34m,\u001b[0m \u001b[0mcaptured_inputs\u001b[0m\u001b[0;34m,\u001b[0m \u001b[0mcancellation_manager\u001b[0m\u001b[0;34m=\u001b[0m\u001b[0;32mNone\u001b[0m\u001b[0;34m)\u001b[0m\u001b[0;34m:\u001b[0m\u001b[0;34m\u001b[0m\u001b[0;34m\u001b[0m\u001b[0m\n",
      "\u001b[0;32m~/anaconda3/envs/tflow/lib/python3.7/site-packages/tensorflow_core/python/eager/function.py\u001b[0m in \u001b[0;36m_call_flat\u001b[0;34m(self, args, captured_inputs, cancellation_manager)\u001b[0m\n\u001b[1;32m   1222\u001b[0m     \u001b[0;32mif\u001b[0m \u001b[0mexecuting_eagerly\u001b[0m\u001b[0;34m:\u001b[0m\u001b[0;34m\u001b[0m\u001b[0;34m\u001b[0m\u001b[0m\n\u001b[1;32m   1223\u001b[0m       flat_outputs = forward_function.call(\n\u001b[0;32m-> 1224\u001b[0;31m           ctx, args, cancellation_manager=cancellation_manager)\n\u001b[0m\u001b[1;32m   1225\u001b[0m     \u001b[0;32melse\u001b[0m\u001b[0;34m:\u001b[0m\u001b[0;34m\u001b[0m\u001b[0;34m\u001b[0m\u001b[0m\n\u001b[1;32m   1226\u001b[0m       \u001b[0mgradient_name\u001b[0m \u001b[0;34m=\u001b[0m \u001b[0mself\u001b[0m\u001b[0;34m.\u001b[0m\u001b[0m_delayed_rewrite_functions\u001b[0m\u001b[0;34m.\u001b[0m\u001b[0mregister\u001b[0m\u001b[0;34m(\u001b[0m\u001b[0;34m)\u001b[0m\u001b[0;34m\u001b[0m\u001b[0;34m\u001b[0m\u001b[0m\n",
      "\u001b[0;32m~/anaconda3/envs/tflow/lib/python3.7/site-packages/tensorflow_core/python/eager/function.py\u001b[0m in \u001b[0;36mcall\u001b[0;34m(self, ctx, args, cancellation_manager)\u001b[0m\n\u001b[1;32m    509\u001b[0m               \u001b[0minputs\u001b[0m\u001b[0;34m=\u001b[0m\u001b[0margs\u001b[0m\u001b[0;34m,\u001b[0m\u001b[0;34m\u001b[0m\u001b[0;34m\u001b[0m\u001b[0m\n\u001b[1;32m    510\u001b[0m               \u001b[0mattrs\u001b[0m\u001b[0;34m=\u001b[0m\u001b[0;34m(\u001b[0m\u001b[0;34m\"executor_type\"\u001b[0m\u001b[0;34m,\u001b[0m \u001b[0mexecutor_type\u001b[0m\u001b[0;34m,\u001b[0m \u001b[0;34m\"config_proto\"\u001b[0m\u001b[0;34m,\u001b[0m \u001b[0mconfig\u001b[0m\u001b[0;34m)\u001b[0m\u001b[0;34m,\u001b[0m\u001b[0;34m\u001b[0m\u001b[0;34m\u001b[0m\u001b[0m\n\u001b[0;32m--> 511\u001b[0;31m               ctx=ctx)\n\u001b[0m\u001b[1;32m    512\u001b[0m         \u001b[0;32melse\u001b[0m\u001b[0;34m:\u001b[0m\u001b[0;34m\u001b[0m\u001b[0;34m\u001b[0m\u001b[0m\n\u001b[1;32m    513\u001b[0m           outputs = execute.execute_with_cancellation(\n",
      "\u001b[0;32m~/anaconda3/envs/tflow/lib/python3.7/site-packages/tensorflow_core/python/eager/execute.py\u001b[0m in \u001b[0;36mquick_execute\u001b[0;34m(op_name, num_outputs, inputs, attrs, ctx, name)\u001b[0m\n\u001b[1;32m     65\u001b[0m     \u001b[0;32melse\u001b[0m\u001b[0;34m:\u001b[0m\u001b[0;34m\u001b[0m\u001b[0;34m\u001b[0m\u001b[0m\n\u001b[1;32m     66\u001b[0m       \u001b[0mmessage\u001b[0m \u001b[0;34m=\u001b[0m \u001b[0me\u001b[0m\u001b[0;34m.\u001b[0m\u001b[0mmessage\u001b[0m\u001b[0;34m\u001b[0m\u001b[0;34m\u001b[0m\u001b[0m\n\u001b[0;32m---> 67\u001b[0;31m     \u001b[0msix\u001b[0m\u001b[0;34m.\u001b[0m\u001b[0mraise_from\u001b[0m\u001b[0;34m(\u001b[0m\u001b[0mcore\u001b[0m\u001b[0;34m.\u001b[0m\u001b[0m_status_to_exception\u001b[0m\u001b[0;34m(\u001b[0m\u001b[0me\u001b[0m\u001b[0;34m.\u001b[0m\u001b[0mcode\u001b[0m\u001b[0;34m,\u001b[0m \u001b[0mmessage\u001b[0m\u001b[0;34m)\u001b[0m\u001b[0;34m,\u001b[0m \u001b[0;32mNone\u001b[0m\u001b[0;34m)\u001b[0m\u001b[0;34m\u001b[0m\u001b[0;34m\u001b[0m\u001b[0m\n\u001b[0m\u001b[1;32m     68\u001b[0m   \u001b[0;32mexcept\u001b[0m \u001b[0mTypeError\u001b[0m \u001b[0;32mas\u001b[0m \u001b[0me\u001b[0m\u001b[0;34m:\u001b[0m\u001b[0;34m\u001b[0m\u001b[0;34m\u001b[0m\u001b[0m\n\u001b[1;32m     69\u001b[0m     keras_symbolic_tensors = [\n",
      "\u001b[0;32m~/anaconda3/envs/tflow/lib/python3.7/site-packages/six.py\u001b[0m in \u001b[0;36mraise_from\u001b[0;34m(value, from_value)\u001b[0m\n",
      "\u001b[0;31mResourceExhaustedError\u001b[0m:  OOM when allocating tensor with shape[1,510,510,82,64] and type float on /job:localhost/replica:0/task:0/device:GPU:0 by allocator GPU_0_bfc\n\t [[node 3d_image_classification_normalized/3D_64_1/Conv3D (defined at /home/ayushman.singh/anaconda3/envs/tflow/lib/python3.7/site-packages/tensorflow_core/python/framework/ops.py:1751) ]]\nHint: If you want to see a list of allocated tensors when OOM happens, add report_tensor_allocations_upon_oom to RunOptions for current allocation info.\n [Op:__inference_distributed_function_3762]\n\nFunction call stack:\ndistributed_function\n"
     ]
    },
    {
     "name": "stdout",
     "output_type": "stream",
     "text": [
      "/home/ayushman.singh/Datasets/ImageCLEF/Dataset/TRN_0146.nii.gz\n"
     ]
    }
   ],
   "source": [
    "validation_preds = model.predict(val_dataset, steps=len(val_idxs))"
   ]
  },
  {
   "cell_type": "code",
   "execution_count": 21,
   "metadata": {},
   "outputs": [],
   "source": [
    "val_kappa = cohen_kappa_score(v_targets, valid_preds)\n",
    "val_acc = accuracy_score(v_targets, valid_preds)"
   ]
  },
  {
   "cell_type": "code",
   "execution_count": 23,
   "metadata": {},
   "outputs": [
    {
     "name": "stdout",
     "output_type": "stream",
     "text": [
      "[1 1 1 1 1 1 1 1 1 1 1 1 1 1 1 1 1 1 1 1 1 1 1 1 1 1 1 1 1 1 1 1 1 1 1 1 1\n",
      " 1 1 1 1 1 1 1 1 1 1 1 1 1 1 1 1 1 1 1 1 1 1 1 1 1 1 1 1 1 1 1 1 1 1 1 1 1\n",
      " 1 1 1 1 1 1 1 1 1 1 1 1 1 1 1 1 1 1 1 1 1 1 1 1 1 1 1 1 1 1 1 1 1 1 1 1 1\n",
      " 1 1 1 1 1 1 1 1 1 1 1 1 1 1 1 1 1 1 1 1 1 1 1 1 1 1 1 1 1 1 1 1 1 1 1 1 1\n",
      " 1 1 1 1 1 1 1 1 1 1 1 1 1 1 1 1 1 1 1 1 1 1 1 1 1 1 1 1 1 1 1 1 1 1 1 1]\n"
     ]
    }
   ],
   "source": [
    "print(valid_preds)"
   ]
  },
  {
   "cell_type": "code",
   "execution_count": 24,
   "metadata": {},
   "outputs": [
    {
     "name": "stdout",
     "output_type": "stream",
     "text": [
      "[0 3 1 3 1 4 0 0 0 0 1 1 0 0 0 1 2 1 0 1 1 4 2 0 0 0 0 3 0 3 0 0 4 0 0 2 0\n",
      " 1 0 1 0 1 0 0 1 0 0 3 1 1 0 2 0 0 1 1 4 4 3 1 1 1 0 0 0 2 0 0 4 0 3 1 1 4\n",
      " 3 4 0 3 0 0 1 1 4 2 3 0 1 1 0 0 1 4 0 0 2 3 3 1 2 1 1 1 0 1 1 0 0 2 0 1 1\n",
      " 3 0 3 2 0 0 0 0 0 0 1 0 0 0 0 4 0 0 1 0 1 0 2 0 0 0 4 0 0 0 0 0 0 3 0 0 1\n",
      " 2 0 2 1 0 2 0 2 0 2 1 3 0 0 4 1 0 0 4 0 1 3 1 0 1 2 0 0 1 1 2 2 3 3 3 2]\n"
     ]
    }
   ],
   "source": [
    "print(v_targets)"
   ]
  },
  {
   "cell_type": "code",
   "execution_count": 25,
   "metadata": {},
   "outputs": [
    {
     "name": "stdout",
     "output_type": "stream",
     "text": [
      "[[0.09005298 0.43333203 0.16235366 0.10864624 0.2056151 ]\n",
      " [0.09005298 0.43333203 0.16235366 0.10864624 0.2056151 ]\n",
      " [0.09005298 0.43333203 0.16235366 0.10864624 0.2056151 ]\n",
      " [0.09005298 0.43333203 0.16235366 0.10864624 0.2056151 ]\n",
      " [0.09005298 0.43333203 0.16235366 0.10864624 0.2056151 ]\n",
      " [0.09005298 0.43333203 0.16235366 0.10864624 0.2056151 ]\n",
      " [0.09005298 0.43333203 0.16235366 0.10864624 0.2056151 ]\n",
      " [0.09005298 0.43333203 0.16235366 0.10864624 0.2056151 ]\n",
      " [0.09005298 0.43333203 0.16235366 0.10864624 0.2056151 ]\n",
      " [0.09005298 0.43333203 0.16235366 0.10864624 0.2056151 ]\n",
      " [0.09005298 0.43333203 0.16235366 0.10864624 0.2056151 ]\n",
      " [0.09005298 0.43333203 0.16235366 0.10864624 0.2056151 ]\n",
      " [0.09005298 0.43333203 0.16235366 0.10864624 0.2056151 ]\n",
      " [0.09005298 0.43333203 0.16235366 0.10864624 0.2056151 ]\n",
      " [0.09005298 0.43333203 0.16235366 0.10864624 0.2056151 ]\n",
      " [0.09005298 0.43333203 0.16235366 0.10864624 0.2056151 ]\n",
      " [0.09005298 0.43333203 0.16235366 0.10864624 0.2056151 ]\n",
      " [0.09005298 0.43333203 0.16235366 0.10864624 0.2056151 ]\n",
      " [0.09005298 0.43333203 0.16235366 0.10864624 0.2056151 ]\n",
      " [0.09005298 0.43333203 0.16235366 0.10864624 0.2056151 ]\n",
      " [0.09005298 0.43333203 0.16235366 0.10864624 0.2056151 ]\n",
      " [0.09005298 0.43333203 0.16235366 0.10864624 0.2056151 ]\n",
      " [0.09005298 0.43333203 0.16235366 0.10864624 0.2056151 ]\n",
      " [0.09005298 0.43333203 0.16235366 0.10864624 0.2056151 ]\n",
      " [0.09005298 0.43333203 0.16235366 0.10864624 0.2056151 ]\n",
      " [0.09005298 0.43333203 0.16235366 0.10864624 0.2056151 ]\n",
      " [0.09005298 0.43333203 0.16235366 0.10864624 0.2056151 ]\n",
      " [0.09005298 0.43333203 0.16235366 0.10864624 0.2056151 ]\n",
      " [0.09005298 0.43333203 0.16235366 0.10864624 0.2056151 ]\n",
      " [0.09005298 0.43333203 0.16235366 0.10864624 0.2056151 ]\n",
      " [0.09005298 0.43333203 0.16235366 0.10864624 0.2056151 ]\n",
      " [0.09005298 0.43333203 0.16235366 0.10864624 0.2056151 ]\n",
      " [0.09005298 0.43333203 0.16235366 0.10864624 0.2056151 ]\n",
      " [0.09005298 0.43333203 0.16235366 0.10864624 0.2056151 ]\n",
      " [0.09005298 0.43333203 0.16235366 0.10864624 0.2056151 ]\n",
      " [0.09005298 0.43333203 0.16235366 0.10864624 0.2056151 ]\n",
      " [0.09005298 0.43333203 0.16235366 0.10864624 0.2056151 ]\n",
      " [0.09005298 0.43333203 0.16235366 0.10864624 0.2056151 ]\n",
      " [0.09005298 0.43333203 0.16235366 0.10864624 0.2056151 ]\n",
      " [0.09005298 0.43333203 0.16235366 0.10864624 0.2056151 ]\n",
      " [0.09005298 0.43333203 0.16235366 0.10864624 0.2056151 ]\n",
      " [0.09005298 0.43333203 0.16235366 0.10864624 0.2056151 ]\n",
      " [0.09005298 0.43333203 0.16235366 0.10864624 0.2056151 ]\n",
      " [0.09005298 0.43333203 0.16235366 0.10864624 0.2056151 ]\n",
      " [0.09005298 0.43333203 0.16235366 0.10864624 0.2056151 ]\n",
      " [0.09005298 0.43333203 0.16235366 0.10864624 0.2056151 ]\n",
      " [0.09005298 0.43333203 0.16235366 0.10864624 0.2056151 ]\n",
      " [0.09005298 0.43333203 0.16235366 0.10864624 0.2056151 ]\n",
      " [0.09005298 0.43333203 0.16235366 0.10864624 0.2056151 ]\n",
      " [0.09005298 0.43333203 0.16235366 0.10864624 0.2056151 ]\n",
      " [0.09005298 0.43333203 0.16235366 0.10864624 0.2056151 ]\n",
      " [0.09005298 0.43333203 0.16235366 0.10864624 0.2056151 ]\n",
      " [0.09005298 0.43333203 0.16235366 0.10864624 0.2056151 ]\n",
      " [0.09005298 0.43333203 0.16235366 0.10864624 0.2056151 ]\n",
      " [0.09005298 0.43333203 0.16235366 0.10864624 0.2056151 ]\n",
      " [0.09005298 0.43333203 0.16235366 0.10864624 0.2056151 ]\n",
      " [0.09005298 0.43333203 0.16235366 0.10864624 0.2056151 ]\n",
      " [0.09005298 0.43333203 0.16235366 0.10864624 0.2056151 ]\n",
      " [0.09005298 0.43333203 0.16235366 0.10864624 0.2056151 ]\n",
      " [0.09005298 0.43333203 0.16235366 0.10864624 0.2056151 ]\n",
      " [0.09005298 0.43333203 0.16235366 0.10864624 0.2056151 ]\n",
      " [0.09005298 0.43333203 0.16235366 0.10864624 0.2056151 ]\n",
      " [0.09005298 0.43333203 0.16235366 0.10864624 0.2056151 ]\n",
      " [0.09005298 0.43333203 0.16235366 0.10864624 0.2056151 ]\n",
      " [0.09005298 0.43333203 0.16235366 0.10864624 0.2056151 ]\n",
      " [0.09005298 0.43333203 0.16235366 0.10864624 0.2056151 ]\n",
      " [0.09005298 0.43333203 0.16235366 0.10864624 0.2056151 ]\n",
      " [0.09005298 0.43333203 0.16235366 0.10864624 0.2056151 ]\n",
      " [0.09005298 0.43333203 0.16235366 0.10864624 0.2056151 ]\n",
      " [0.09005298 0.43333203 0.16235366 0.10864624 0.2056151 ]\n",
      " [0.09005298 0.43333203 0.16235366 0.10864624 0.2056151 ]\n",
      " [0.09005298 0.43333203 0.16235366 0.10864624 0.2056151 ]\n",
      " [0.09005298 0.43333203 0.16235366 0.10864624 0.2056151 ]\n",
      " [0.09005298 0.43333203 0.16235366 0.10864624 0.2056151 ]\n",
      " [0.09005298 0.43333203 0.16235366 0.10864624 0.2056151 ]\n",
      " [0.09005298 0.43333203 0.16235366 0.10864624 0.2056151 ]\n",
      " [0.09005298 0.43333203 0.16235366 0.10864624 0.2056151 ]\n",
      " [0.09005298 0.43333203 0.16235366 0.10864624 0.2056151 ]\n",
      " [0.09005298 0.43333203 0.16235366 0.10864624 0.2056151 ]\n",
      " [0.09005298 0.43333203 0.16235366 0.10864624 0.2056151 ]\n",
      " [0.09005298 0.43333203 0.16235366 0.10864624 0.2056151 ]\n",
      " [0.09005298 0.43333203 0.16235366 0.10864624 0.2056151 ]\n",
      " [0.09005298 0.43333203 0.16235366 0.10864624 0.2056151 ]\n",
      " [0.09005298 0.43333203 0.16235366 0.10864624 0.2056151 ]\n",
      " [0.09005298 0.43333203 0.16235366 0.10864624 0.2056151 ]\n",
      " [0.09005298 0.43333203 0.16235366 0.10864624 0.2056151 ]\n",
      " [0.09005298 0.43333203 0.16235366 0.10864624 0.2056151 ]\n",
      " [0.09005298 0.43333203 0.16235366 0.10864624 0.2056151 ]\n",
      " [0.09005298 0.43333203 0.16235366 0.10864624 0.2056151 ]\n",
      " [0.09005298 0.43333203 0.16235366 0.10864624 0.2056151 ]\n",
      " [0.09005298 0.43333203 0.16235366 0.10864624 0.2056151 ]\n",
      " [0.09005298 0.43333203 0.16235366 0.10864624 0.2056151 ]\n",
      " [0.09005298 0.43333203 0.16235366 0.10864624 0.2056151 ]\n",
      " [0.09005298 0.43333203 0.16235366 0.10864624 0.2056151 ]\n",
      " [0.09005298 0.43333203 0.16235366 0.10864624 0.2056151 ]\n",
      " [0.09005298 0.43333203 0.16235366 0.10864624 0.2056151 ]\n",
      " [0.09005298 0.43333203 0.16235366 0.10864624 0.2056151 ]\n",
      " [0.09005298 0.43333203 0.16235366 0.10864624 0.2056151 ]\n",
      " [0.09005298 0.43333203 0.16235366 0.10864624 0.2056151 ]\n",
      " [0.09005298 0.43333203 0.16235366 0.10864624 0.2056151 ]\n",
      " [0.09005298 0.43333203 0.16235366 0.10864624 0.2056151 ]\n",
      " [0.09005298 0.43333203 0.16235366 0.10864624 0.2056151 ]\n",
      " [0.09005298 0.43333203 0.16235366 0.10864624 0.2056151 ]\n",
      " [0.09005298 0.43333203 0.16235366 0.10864624 0.2056151 ]\n",
      " [0.09005298 0.43333203 0.16235366 0.10864624 0.2056151 ]\n",
      " [0.09005298 0.43333203 0.16235366 0.10864624 0.2056151 ]\n",
      " [0.09005298 0.43333203 0.16235366 0.10864624 0.2056151 ]\n",
      " [0.09005298 0.43333203 0.16235366 0.10864624 0.2056151 ]\n",
      " [0.09005298 0.43333203 0.16235366 0.10864624 0.2056151 ]\n",
      " [0.09005298 0.43333203 0.16235366 0.10864624 0.2056151 ]\n",
      " [0.09005298 0.43333203 0.16235366 0.10864624 0.2056151 ]\n",
      " [0.09005298 0.43333203 0.16235366 0.10864624 0.2056151 ]\n",
      " [0.09005298 0.43333203 0.16235366 0.10864624 0.2056151 ]\n",
      " [0.09005298 0.43333203 0.16235366 0.10864624 0.2056151 ]\n",
      " [0.09005298 0.43333203 0.16235366 0.10864624 0.2056151 ]\n",
      " [0.09005298 0.43333203 0.16235366 0.10864624 0.2056151 ]\n",
      " [0.09005298 0.43333203 0.16235366 0.10864624 0.2056151 ]\n",
      " [0.09005298 0.43333203 0.16235366 0.10864624 0.2056151 ]\n",
      " [0.09005298 0.43333203 0.16235366 0.10864624 0.2056151 ]\n",
      " [0.09005298 0.43333203 0.16235366 0.10864624 0.2056151 ]\n",
      " [0.09005298 0.43333203 0.16235366 0.10864624 0.2056151 ]\n",
      " [0.09005298 0.43333203 0.16235366 0.10864624 0.2056151 ]\n",
      " [0.09005298 0.43333203 0.16235366 0.10864624 0.2056151 ]\n",
      " [0.09005298 0.43333203 0.16235366 0.10864624 0.2056151 ]\n",
      " [0.09005298 0.43333203 0.16235366 0.10864624 0.2056151 ]\n",
      " [0.09005298 0.43333203 0.16235366 0.10864624 0.2056151 ]\n",
      " [0.09005298 0.43333203 0.16235366 0.10864624 0.2056151 ]\n",
      " [0.09005298 0.43333203 0.16235366 0.10864624 0.2056151 ]\n",
      " [0.09005298 0.43333203 0.16235366 0.10864624 0.2056151 ]\n",
      " [0.09005298 0.43333203 0.16235366 0.10864624 0.2056151 ]\n",
      " [0.09005298 0.43333203 0.16235366 0.10864624 0.2056151 ]\n",
      " [0.09005298 0.43333203 0.16235366 0.10864624 0.2056151 ]\n",
      " [0.09005298 0.43333203 0.16235366 0.10864624 0.2056151 ]\n",
      " [0.09005298 0.43333203 0.16235366 0.10864624 0.2056151 ]\n",
      " [0.09005298 0.43333203 0.16235366 0.10864624 0.2056151 ]\n",
      " [0.09005298 0.43333203 0.16235366 0.10864624 0.2056151 ]\n",
      " [0.09005298 0.43333203 0.16235366 0.10864624 0.2056151 ]\n",
      " [0.09005298 0.43333203 0.16235366 0.10864624 0.2056151 ]\n",
      " [0.09005298 0.43333203 0.16235366 0.10864624 0.2056151 ]\n",
      " [0.09005298 0.43333203 0.16235366 0.10864624 0.2056151 ]\n",
      " [0.09005298 0.43333203 0.16235366 0.10864624 0.2056151 ]\n",
      " [0.09005298 0.43333203 0.16235366 0.10864624 0.2056151 ]\n",
      " [0.09005298 0.43333203 0.16235366 0.10864624 0.2056151 ]\n",
      " [0.09005298 0.43333203 0.16235366 0.10864624 0.2056151 ]\n",
      " [0.09005298 0.43333203 0.16235366 0.10864624 0.2056151 ]\n",
      " [0.09005298 0.43333203 0.16235366 0.10864624 0.2056151 ]\n",
      " [0.09005298 0.43333203 0.16235366 0.10864624 0.2056151 ]\n",
      " [0.09005298 0.43333203 0.16235366 0.10864624 0.2056151 ]\n",
      " [0.09005298 0.43333203 0.16235366 0.10864624 0.2056151 ]\n",
      " [0.09005298 0.43333203 0.16235366 0.10864624 0.2056151 ]\n",
      " [0.09005298 0.43333203 0.16235366 0.10864624 0.2056151 ]\n",
      " [0.09005298 0.43333203 0.16235366 0.10864624 0.2056151 ]\n",
      " [0.09005298 0.43333203 0.16235366 0.10864624 0.2056151 ]\n",
      " [0.09005298 0.43333203 0.16235366 0.10864624 0.2056151 ]\n",
      " [0.09005298 0.43333203 0.16235366 0.10864624 0.2056151 ]\n",
      " [0.09005298 0.43333203 0.16235366 0.10864624 0.2056151 ]\n",
      " [0.09005298 0.43333203 0.16235366 0.10864624 0.2056151 ]\n",
      " [0.09005298 0.43333203 0.16235366 0.10864624 0.2056151 ]\n",
      " [0.09005298 0.43333203 0.16235366 0.10864624 0.2056151 ]\n",
      " [0.09005298 0.43333203 0.16235366 0.10864624 0.2056151 ]\n",
      " [0.09005298 0.43333203 0.16235366 0.10864624 0.2056151 ]\n",
      " [0.09005298 0.43333203 0.16235366 0.10864624 0.2056151 ]\n",
      " [0.09005298 0.43333203 0.16235366 0.10864624 0.2056151 ]\n",
      " [0.09005298 0.43333203 0.16235366 0.10864624 0.2056151 ]\n",
      " [0.09005298 0.43333203 0.16235366 0.10864624 0.2056151 ]\n",
      " [0.09005298 0.43333203 0.16235366 0.10864624 0.2056151 ]\n",
      " [0.09005298 0.43333203 0.16235366 0.10864624 0.2056151 ]\n",
      " [0.09005298 0.43333203 0.16235366 0.10864624 0.2056151 ]\n",
      " [0.09005298 0.43333203 0.16235366 0.10864624 0.2056151 ]\n",
      " [0.09005298 0.43333203 0.16235366 0.10864624 0.2056151 ]\n",
      " [0.09005298 0.43333203 0.16235366 0.10864624 0.2056151 ]\n",
      " [0.09005298 0.43333203 0.16235366 0.10864624 0.2056151 ]\n",
      " [0.09005298 0.43333203 0.16235366 0.10864624 0.2056151 ]\n",
      " [0.09005298 0.43333203 0.16235366 0.10864624 0.2056151 ]\n",
      " [0.09005298 0.43333203 0.16235366 0.10864624 0.2056151 ]\n",
      " [0.09005298 0.43333203 0.16235366 0.10864624 0.2056151 ]\n",
      " [0.09005298 0.43333203 0.16235366 0.10864624 0.2056151 ]\n",
      " [0.09005298 0.43333203 0.16235366 0.10864624 0.2056151 ]\n",
      " [0.09005298 0.43333203 0.16235366 0.10864624 0.2056151 ]\n",
      " [0.09005298 0.43333203 0.16235366 0.10864624 0.2056151 ]\n",
      " [0.09005298 0.43333203 0.16235366 0.10864624 0.2056151 ]\n",
      " [0.09005298 0.43333203 0.16235366 0.10864624 0.2056151 ]\n",
      " [0.09005298 0.43333203 0.16235366 0.10864624 0.2056151 ]\n",
      " [0.09005298 0.43333203 0.16235366 0.10864624 0.2056151 ]]\n"
     ]
    }
   ],
   "source": [
    "print(validation_preds)"
   ]
  },
  {
   "cell_type": "code",
   "execution_count": 27,
   "metadata": {},
   "outputs": [
    {
     "data": {
      "text/plain": [
       "array([[0., 0., 1., 0., 0.]], dtype=float32)"
      ]
     },
     "execution_count": 27,
     "metadata": {},
     "output_type": "execute_result"
    }
   ],
   "source": [
    "model.predict((val_samples[0, :, :, :, :])[np.newaxis, ...])"
   ]
  },
  {
   "cell_type": "code",
   "execution_count": 28,
   "metadata": {},
   "outputs": [
    {
     "data": {
      "text/plain": [
       "array([[0., 0., 1., 0., 0.]], dtype=float32)"
      ]
     },
     "execution_count": 28,
     "metadata": {},
     "output_type": "execute_result"
    }
   ],
   "source": [
    "model.predict((val_samples[1, :, :, :, :])[np.newaxis, ...])"
   ]
  },
  {
   "cell_type": "code",
   "execution_count": 29,
   "metadata": {},
   "outputs": [
    {
     "data": {
      "text/plain": [
       "array([[0., 0., 1., 0., 0.]], dtype=float32)"
      ]
     },
     "execution_count": 29,
     "metadata": {},
     "output_type": "execute_result"
    }
   ],
   "source": [
    "model.predict((val_samples[2, :, :, :, :])[np.newaxis, ...])"
   ]
  },
  {
   "cell_type": "code",
   "execution_count": 30,
   "metadata": {},
   "outputs": [
    {
     "data": {
      "text/plain": [
       "array([[0., 0., 1., 0., 0.]], dtype=float32)"
      ]
     },
     "execution_count": 30,
     "metadata": {},
     "output_type": "execute_result"
    }
   ],
   "source": [
    "model.predict((val_samples[3, :, :, :, :])[np.newaxis, ...])"
   ]
  },
  {
   "cell_type": "code",
   "execution_count": 31,
   "metadata": {},
   "outputs": [
    {
     "data": {
      "text/plain": [
       "array([[0., 0., 1., 0., 0.]], dtype=float32)"
      ]
     },
     "execution_count": 31,
     "metadata": {},
     "output_type": "execute_result"
    }
   ],
   "source": [
    "model.predict((val_samples[4, :, :, :, :])[np.newaxis, ...])"
   ]
  },
  {
   "cell_type": "code",
   "execution_count": 43,
   "metadata": {},
   "outputs": [
    {
     "name": "stdout",
     "output_type": "stream",
     "text": [
      "/home/ayushman.singh/Datasets/ImageCLEF/Dataset/TRN_0162.nii.gz\n",
      "tf.Tensor([[1. 0. 0. 0. 0.]], shape=(1, 5), dtype=float32)\n",
      "/home/ayushman.singh/Datasets/ImageCLEF/Dataset/TRN_0162.nii.gz\n",
      "tf.Tensor([[1. 0. 0. 0. 0.]], shape=(1, 5), dtype=float32)\n",
      "/home/ayushman.singh/Datasets/ImageCLEF/Dataset/TRN_0162.nii.gz\n",
      "tf.Tensor([[1. 0. 0. 0. 0.]], shape=(1, 5), dtype=float32)\n",
      "/home/ayushman.singh/Datasets/ImageCLEF/Dataset/TRN_0162.nii.gz\n",
      "tf.Tensor([[1. 0. 0. 0. 0.]], shape=(1, 5), dtype=float32)\n",
      "/home/ayushman.singh/Datasets/ImageCLEF/Dataset/TRN_0162.nii.gz\n",
      "tf.Tensor([[1. 0. 0. 0. 0.]], shape=(1, 5), dtype=float32)\n",
      "/home/ayushman.singh/Datasets/ImageCLEF/Dataset/TRN_0162.nii.gz\n"
     ]
    }
   ],
   "source": [
    "# datum = val_dataset.as_numpy_iterator()\n",
    "\n",
    "# for k in range(0, 6):\n",
    "#     sample, target = next(datum)\n",
    "#     print(sample.shape)\n",
    "#     print(target.shape)\n",
    "#     print(np.mean(sample))\n",
    "#     print(model.predict(sample))\n",
    "#     print(target)\n",
    "\n",
    "k = 0\n",
    "\n",
    "for sample, target in val_dataset.take(5):\n",
    "    print(target)"
   ]
  }
 ],
 "metadata": {
  "kernelspec": {
   "display_name": "Python 3",
   "language": "python",
   "name": "python3"
  },
  "language_info": {
   "codemirror_mode": {
    "name": "ipython",
    "version": 3
   },
   "file_extension": ".py",
   "mimetype": "text/x-python",
   "name": "python",
   "nbconvert_exporter": "python",
   "pygments_lexer": "ipython3",
   "version": "3.7.10"
  }
 },
 "nbformat": 4,
 "nbformat_minor": 4
}
