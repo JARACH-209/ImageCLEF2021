{
 "cells": [
  {
   "cell_type": "code",
   "execution_count": 1,
   "id": "2852e90e",
   "metadata": {},
   "outputs": [],
   "source": [
    "import tensorflow as tf\n",
    "import nibabel as nib\n",
    "import pandas as pd\n",
    "import numpy as np\n",
    "# import skimage\n",
    "import time\n",
    "import glob\n",
    "import sys\n",
    "# import cv2\n",
    "import os\n",
    "\n",
    "import pickle\n",
    "from scipy import stats\n",
    "# from skimage import measure\n",
    "from shutil import move\n",
    "from tensorflow import keras\n",
    "from PIL import Image, ImageDraw\n",
    "from scipy.spatial import ConvexHull\n",
    "from scipy.spatial.qhull import QhullError\n",
    "from sklearn.model_selection import train_test_split\n"
   ]
  },
  {
   "cell_type": "code",
   "execution_count": 2,
   "id": "04ec57f5",
   "metadata": {},
   "outputs": [],
   "source": [
    "\n",
    "# model_name = sys.argv[1]\n",
    "model_name = 'Models/NASNet/NASNet_Transfer_Mask_NOMEAN_1_CORONA'\n",
    "\n",
    "home = os.path.expanduser('~')\n",
    "\n",
    "model_base = os.path.join(home, 'ImageCLEF2021', f'{model_name}.h5')\n",
    "myModel = keras.models.load_model(model_base)\n",
    "\n",
    "base = os.path.join(home, 'Datasets', 'ImageCLEF')\n",
    "\n",
    "test_slices_dir = os.path.join(base, 'Test_Coronal_Slice_Masks_300')\n",
    "\n",
    "ct_predictions1 = {}\n",
    "ct_predictions2 = {}"
   ]
  },
  {
   "cell_type": "code",
   "execution_count": null,
   "id": "2f0d2383",
   "metadata": {},
   "outputs": [
    {
     "name": "stdout",
     "output_type": "stream",
     "text": [
      "TST_0106.nii.gz\r"
     ]
    }
   ],
   "source": [
    "try:\n",
    "    aggr = sys.argv[2]\n",
    "except IndexError as err:\n",
    "    pass\n",
    "\n",
    "ldir = os.listdir(os.path.join(base, 'Testset'))\n",
    "ldir.sort()\n",
    "\n",
    "for img_name in ldir:\n",
    "    img_name_split = img_name.split('.')\n",
    "    base_img_name = img_name_split[0]\n",
    "    if img_name_split[1] != 'nii' or img_name_split[2] != 'gz':\n",
    "        continue\n",
    "    \n",
    "    all_slices = []\n",
    "    \n",
    "    slice_names = glob.glob(os.path.join(test_slices_dir, f'{base_img_name}_*'))\n",
    "    \n",
    "    for slice_name in slice_names:\n",
    "        slice_path = os.path.join(test_slices_dir, slice_name)\n",
    "        im_slice = Image.open(slice_path)\n",
    "        im_slice = im_slice.resize((224, 224), resample=Image.LANCZOS)\n",
    "        im_slice = np.asarray(im_slice)[..., np.newaxis]\n",
    "        m_slice = np.append(im_slice, im_slice, axis=2)\n",
    "        m_slice = np.append(m_slice, im_slice, axis=2)\n",
    "#         print(f'{m_slice.shape}')\n",
    "        all_slices.append(m_slice)\n",
    "        \n",
    "    all_slices = np.array(all_slices, dtype=np.float32)\n",
    "    \n",
    "    predictions = []\n",
    "    for slice_i in all_slices:\n",
    "        predictions.append(myModel(slice_i[np.newaxis, ...]))\n",
    "    \n",
    "#     predictions = myModel(all_slices)\n",
    "    predictions = np.array(predictions)\n",
    "    \n",
    "    predictions = np.squeeze(predictions, axis=1)\n",
    "    \n",
    "    predictions1 = np.argmax(predictions, axis=1)\n",
    "\n",
    "    num_slices = predictions.shape[0]\n",
    "    sl_min = int((2/9) * num_slices + (14/9))\n",
    "    sl_max = int((7/54) * num_slices + (49/54))\n",
    "\n",
    "    predictions = predictions[sl_min:-sl_max, :]\n",
    "    \n",
    "    predictions2 = np.argmax(predictions, axis=1)\n",
    "    \n",
    "    ct_predictions1[f'{img_name}.nii.gz'] = stats.mode(predictions1).mode.item() + 1\n",
    "    ct_predictions2[f'{img_name}.nii.gz'] = stats.mode(predictions2).mode.item() + 1\n",
    "    \n",
    "    print(f'{img_name}', end='\\r')"
   ]
  },
  {
   "cell_type": "code",
   "execution_count": null,
   "id": "1e4f80c2",
   "metadata": {},
   "outputs": [],
   "source": []
  },
  {
   "cell_type": "code",
   "execution_count": null,
   "id": "4a7ee095",
   "metadata": {},
   "outputs": [],
   "source": []
  },
  {
   "cell_type": "code",
   "execution_count": null,
   "id": "d909603d",
   "metadata": {},
   "outputs": [],
   "source": []
  },
  {
   "cell_type": "code",
   "execution_count": null,
   "id": "f059da9e",
   "metadata": {},
   "outputs": [],
   "source": []
  }
 ],
 "metadata": {
  "kernelspec": {
   "display_name": "Python [conda env:tensorflow]",
   "language": "python",
   "name": "conda-env-tensorflow-py"
  },
  "language_info": {
   "codemirror_mode": {
    "name": "ipython",
    "version": 3
   },
   "file_extension": ".py",
   "mimetype": "text/x-python",
   "name": "python",
   "nbconvert_exporter": "python",
   "pygments_lexer": "ipython3",
   "version": "3.7.10"
  }
 },
 "nbformat": 4,
 "nbformat_minor": 5
}
