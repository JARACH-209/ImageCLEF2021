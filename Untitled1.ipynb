{
 "cells": [
  {
   "cell_type": "code",
   "execution_count": 1,
   "metadata": {},
   "outputs": [],
   "source": [
    "import matplotlib.pyplot as plt\n",
    "import tensorflow as tf\n",
    "import pickle\n",
    "import os"
   ]
  },
  {
   "cell_type": "code",
   "execution_count": 2,
   "metadata": {},
   "outputs": [],
   "source": [
    "home = os.path.expanduser('~')\n",
    "base = os.path.join(home, 'ImageCLEF2021')\n",
    "\n",
    "m = os.path.join(base, 'Models', '3D_CNNs', '3d_image_classification_normalized_history.pkl')\n",
    "m2 = os.path.join(base, 'Models', 'NASNet', 'NASNet_Transfer_history.pkl')"
   ]
  },
  {
   "cell_type": "code",
   "execution_count": 3,
   "metadata": {},
   "outputs": [
    {
     "name": "stdout",
     "output_type": "stream",
     "text": [
      "2.0.0\n"
     ]
    },
    {
     "data": {
      "text/plain": [
       "True"
      ]
     },
     "execution_count": 3,
     "metadata": {},
     "output_type": "execute_result"
    }
   ],
   "source": [
    "print(tf.__version__)\n",
    "tf.test.is_gpu_available()"
   ]
  },
  {
   "cell_type": "code",
   "execution_count": 4,
   "metadata": {},
   "outputs": [],
   "source": [
    "with open(m1, 'rb')  as f:\n",
    "    history1 = pickle.load(f)\n",
    "    \n",
    "with open(m2, 'rb')  as f:\n",
    "    history2 = pickle.load(f)"
   ]
  },
  {
   "cell_type": "code",
   "execution_count": 5,
   "metadata": {},
   "outputs": [
    {
     "ename": "NameError",
     "evalue": "name 'history' is not defined",
     "output_type": "error",
     "traceback": [
      "\u001b[0;31m---------------------------------------------------------------------------\u001b[0m",
      "\u001b[0;31mNameError\u001b[0m                                 Traceback (most recent call last)",
      "\u001b[0;32m<ipython-input-5-de7ebabc094b>\u001b[0m in \u001b[0;36m<module>\u001b[0;34m\u001b[0m\n\u001b[0;32m----> 1\u001b[0;31m \u001b[0mplt\u001b[0m\u001b[0;34m.\u001b[0m\u001b[0mplot\u001b[0m\u001b[0;34m(\u001b[0m\u001b[0mhistory\u001b[0m\u001b[0;34m[\u001b[0m\u001b[0;34m'loss'\u001b[0m\u001b[0;34m]\u001b[0m\u001b[0;34m)\u001b[0m\u001b[0;34m\u001b[0m\u001b[0;34m\u001b[0m\u001b[0m\n\u001b[0m",
      "\u001b[0;31mNameError\u001b[0m: name 'history' is not defined"
     ]
    }
   ],
   "source": [
    "plt.plot(history['loss'])"
   ]
  },
  {
   "cell_type": "code",
   "execution_count": 8,
   "metadata": {},
   "outputs": [
    {
     "data": {
      "text/plain": [
       "[<matplotlib.lines.Line2D at 0x7efe4438d7d0>]"
      ]
     },
     "execution_count": 8,
     "metadata": {},
     "output_type": "execute_result"
    },
    {
     "data": {
      "image/png": "[encoded data removed]",
      "text/plain": [
       "<Figure size 432x288 with 1 Axes>"
      ]
     },
     "metadata": {
      "needs_background": "light"
     },
     "output_type": "display_data"
    }
   ],
   "source": [
    "plt.plot(history['acc'])"
   ]
  },
  {
   "cell_type": "code",
   "execution_count": 9,
   "metadata": {},
   "outputs": [
    {
     "data": {
      "text/plain": [
       "[<matplotlib.lines.Line2D at 0x7efe4430f0d0>]"
      ]
     },
     "execution_count": 9,
     "metadata": {},
     "output_type": "execute_result"
    },
    {
     "data": {
      "image/png": "[encoded data removed]",
      "text/plain": [
       "<Figure size 432x288 with 1 Axes>"
      ]
     },
     "metadata": {
      "needs_background": "light"
     },
     "output_type": "display_data"
    }
   ],
   "source": [
    "plt.plot(history['val_loss'])"
   ]
  },
  {
   "cell_type": "code",
   "execution_count": 10,
   "metadata": {},
   "outputs": [
    {
     "data": {
      "text/plain": [
       "[<matplotlib.lines.Line2D at 0x7efe442fc750>]"
      ]
     },
     "execution_count": 10,
     "metadata": {},
     "output_type": "execute_result"
    },
    {
     "data": {
      "image/png": "[encoded data removed]",
      "text/plain": [
       "<Figure size 432x288 with 1 Axes>"
      ]
     },
     "metadata": {
      "needs_background": "light"
     },
     "output_type": "display_data"
    }
   ],
   "source": [
    "plt.plot(history['val_acc'])"
   ]
  },
  {
   "cell_type": "code",
   "execution_count": 6,
   "metadata": {},
   "outputs": [
    {
     "name": "stdout",
     "output_type": "stream",
     "text": [
      "{'loss': [0.3717699999325588, 0.043247407109825234, 0.007401585832483592, 0.0034129548067276467, 0.001894746373301266, 0.0010837260787302312, 0.0006495291531095948, 0.0005385090749085487, 0.0003021064670416554, 0.0002693174979227051, 0.00022445522833638274], 'acc': [0.84098524, 0.99945354, 1.0, 1.0, 1.0, 1.0, 1.0, 1.0, 1.0, 1.0, 1.0], 'val_loss': [0.4343337416648865, 0.454833447933197, 0.46658557653427124, 0.4709562361240387, 0.48689985275268555, 0.4916113018989563, 0.5064700245857239, 0.5119113922119141, 0.5194945931434631, 0.5292413830757141, 0.5429860353469849], 'val_acc': [0.79999954, 0.79999954, 0.79999954, 0.79999954, 0.79999954, 0.79999954, 0.79999954, 0.79999954, 0.79999954, 0.79999954, 0.79999954]}\n"
     ]
    }
   ],
   "source": [
    "print(history1)"
   ]
  },
  {
   "cell_type": "code",
   "execution_count": 5,
   "metadata": {},
   "outputs": [
    {
     "name": "stdout",
     "output_type": "stream",
     "text": [
      "{'loss': [0.38373564682453054, 0.06001206949675109, 0.011088308102717334, 0.004165155783318214, 0.0021361664600026216, 0.0013868665008913061, 0.001029996766630405, 0.0006071944816210175, 0.0006103336716904085, 0.00034998485323463254, 0.0002751532606355848], 'acc': [0.831149, 0.99890715, 1.0, 1.0, 1.0, 1.0, 1.0, 1.0, 1.0, 1.0, 1.0], 'val_loss': [0.712844967842102, 1.0969725847244263, 2.364946126937866, 2.732692003250122, 3.0588889122009277, 3.2879185676574707, 3.510897159576416, 3.718812942504883, 3.9312472343444824, 4.116106986999512, 4.2762346267700195], 'val_acc': [0.79999954, 0.6, 0.6, 0.6, 0.6, 0.6, 0.6, 0.6, 0.6, 0.6, 0.6]}\n"
     ]
    }
   ],
   "source": [
    "print(history1)"
   ]
  },
  {
   "cell_type": "code",
   "execution_count": 7,
   "metadata": {},
   "outputs": [
    {
     "name": "stdout",
     "output_type": "stream",
     "text": [
      "{'loss': [1.7537844316539122, 1.4888654811074957, 1.3397509838541737, 1.1832492284738692, 1.0117822746688034, 0.8563179906050209, 0.7161116239003604, 0.6168779740391983, 0.5357020332139655, 0.459234111400292, 0.40786729193314386, 0.37232881136992546], 'acc': [0.37731934, 0.43566895, 0.48382568, 0.5395508, 0.6094971, 0.6713867, 0.7246704, 0.76586914, 0.7975464, 0.82458496, 0.85009766, 0.86346436], 'val_loss': [1.4273562571033835, 1.428879452869296, 1.5292130606248975, 1.7282983241602778, 1.7909922450780869, 2.018337706103921, 2.0889051258563995, 2.048911496065557, 2.3283131327480078, 2.403691390529275, 2.542241023853421, 2.5025174263864756], 'val_acc': [0.4544983, 0.46417236, 0.4562683, 0.45367432, 0.45166016, 0.45812988, 0.45239258, 0.43756104, 0.4423828, 0.4340515, 0.44506836, 0.43182373]}\n"
     ]
    }
   ],
   "source": [
    "print(history2)"
   ]
  }
 ],
 "metadata": {
  "kernelspec": {
   "display_name": "Python 3",
   "language": "python",
   "name": "python3"
  },
  "language_info": {
   "codemirror_mode": {
    "name": "ipython",
    "version": 3
   },
   "file_extension": ".py",
   "mimetype": "text/x-python",
   "name": "python",
   "nbconvert_exporter": "python",
   "pygments_lexer": "ipython3",
   "version": "3.7.10"
  }
 },
 "nbformat": 4,
 "nbformat_minor": 4
}
